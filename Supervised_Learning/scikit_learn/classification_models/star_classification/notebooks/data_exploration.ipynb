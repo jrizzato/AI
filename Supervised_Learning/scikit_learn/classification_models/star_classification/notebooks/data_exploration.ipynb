{
 "cells": [
  {
   "cell_type": "markdown",
   "metadata": {},
   "source": [
    "# Exploración de Datos\n",
    "\n",
    "Este cuaderno se utiliza para explorar el conjunto de datos de clasificación de estrellas. Incluye visualizaciones y análisis descriptivos para entender mejor las características de los datos y las relaciones entre las variables."
   ]
  },
  {
   "cell_type": "code",
   "execution_count": null,
   "metadata": {
    "collapsed": false
   },
   "outputs": [],
   "source": [
    "import pandas as pd\n",
    "import matplotlib.pyplot as plt\n",
    "import seaborn as sns\n",
    "\n",
    "# Configuración de estilo para las visualizaciones\n",
    "sns.set(style='whitegrid')"
   ]
  },
  {
   "cell_type": "code",
   "execution_count": null,
   "metadata": {
    "collapsed": false
   },
   "outputs": [],
   "source": [
    "# Cargar el conjunto de datos\n",
    "data_path = '../data/star_classification.csv'\n",
    "df = pd.read_csv(data_path)\n",
    "\n",
    "# Mostrar las primeras filas del conjunto de datos\n",
    "df.head()"
   ]
  },
  {
   "cell_type": "code",
   "execution_count": null,
   "metadata": {
    "collapsed": false
   },
   "outputs": [],
   "source": [
    "# Resumen estadístico del conjunto de datos\n",
    "df.describe()"
   ]
  },
  {
   "cell_type": "code",
   "execution_count": null,
   "metadata": {
    "collapsed": false
   },
   "outputs": [],
   "source": [
    "# Comprobar la cantidad de valores nulos en cada columna\n",
    "df.isnull().sum()"
   ]
  },
  {
   "cell_type": "code",
   "execution_count": null,
   "metadata": {
    "collapsed": false
   },
   "outputs": [],
   "source": [
    "# Visualización de la distribución de la temperatura\n",
    "plt.figure(figsize=(10, 6))\n",
    "sns.histplot(df['Temperature (K)'], bins=30, kde=True)\n",
    "plt.title('Distribución de la Temperatura de las Estrellas')\n",
    "plt.xlabel('Temperatura (K)')\n",
    "plt.ylabel('Frecuencia')\n",
    "plt.show()"
   ]
  },
  {
   "cell_type": "code",
   "execution_count": null,
   "metadata": {
    "collapsed": false
   },
   "outputs": [],
   "source": [
    "# Visualización de la relación entre la luminosidad y la temperatura\n",
    "plt.figure(figsize=(10, 6))\n",
    "sns.scatterplot(data=df, x='Temperature (K)', y='Luminosity (L/Lo)', hue='Star category', palette='viridis')\n",
    "plt.title('Relación entre Temperatura y Luminosidad')\n",
    "plt.xlabel('Temperatura (K)')\n",
    "plt.ylabel('Luminosidad (L/Lo)')\n",
    "plt.legend(title='Categoría de Estrella')\n",
    "plt.show()"
   ]
  },
  {
   "cell_type": "code",
   "execution_count": null,
   "metadata": {
    "collapsed": false
   },
   "outputs": [],
   "source": [
    "# Visualización de la matriz de correlación\n",
    "plt.figure(figsize=(12, 8))\n",
    "correlation_matrix = df.corr()\n",
    "sns.heatmap(correlation_matrix, annot=True, fmt='.2f', cmap='coolwarm', square=True)\n",
    "plt.title('Matriz de Correlación entre Variables')\n",
    "plt.show()"
   ]
  }
 ],
 "metadata": {
  "kernelspec": {
   "display_name": "Python 3",
   "language": "python",
   "name": "python3"
  },
  "language_info": {
   "codemirror_mode": {
    "name": "ipython",
    "version": 3
   },
   "file_extension": ".py",
   "mimetype": "text/x-python",
   "name": "python",
   "nbconvert_exporter": "python",
   "pygments_lexer": "ipython3",
   "version": "3.8.5"
  }
 },
 "nbformat": 4,
 "nbformat_minor": 4
}